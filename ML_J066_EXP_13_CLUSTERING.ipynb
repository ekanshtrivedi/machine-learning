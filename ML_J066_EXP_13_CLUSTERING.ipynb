{
  "nbformat": 4,
  "nbformat_minor": 0,
  "metadata": {
    "colab": {
      "name": "ML_J066_EXP_13_CLUSTERING.ipynb",
      "provenance": [],
      "authorship_tag": "ABX9TyPMstTwh/HY8ruPuTiFEl/Y",
      "include_colab_link": true
    },
    "kernelspec": {
      "name": "python3",
      "display_name": "Python 3"
    }
  },
  "cells": [
    {
      "cell_type": "markdown",
      "metadata": {
        "id": "view-in-github",
        "colab_type": "text"
      },
      "source": [
        "<a href=\"https://colab.research.google.com/github/ekanshtrivedi/machine-learning/blob/master/ML_J066_EXP_13_CLUSTERING.ipynb\" target=\"_parent\"><img src=\"https://colab.research.google.com/assets/colab-badge.svg\" alt=\"Open In Colab\"/></a>"
      ]
    },
    {
      "cell_type": "code",
      "metadata": {
        "id": "2bXT488cas6c"
      },
      "source": [
        "import pandas as pd \n",
        "data = pd.read_csv('/content/airqual.csv')"
      ],
      "execution_count": null,
      "outputs": []
    },
    {
      "cell_type": "code",
      "metadata": {
        "id": "zn3gPnm2azMD"
      },
      "source": [
        "data.info()"
      ],
      "execution_count": null,
      "outputs": []
    },
    {
      "cell_type": "code",
      "metadata": {
        "id": "HcGJxurma3aD"
      },
      "source": [
        "import numpy as np\n",
        "data.replace(to_replace = -200,value = np.NaN , inplace = True )"
      ],
      "execution_count": null,
      "outputs": []
    },
    {
      "cell_type": "code",
      "metadata": {
        "id": "eKwwAX6Ha4ia"
      },
      "source": [
        "num = data.isnull().sum()\n",
        "percent = num/data.shape[0]*100\n",
        "percent"
      ],
      "execution_count": null,
      "outputs": []
    },
    {
      "cell_type": "code",
      "metadata": {
        "id": "M-ijeOxwa6p3"
      },
      "source": [
        "data.drop(['NMHC(GT)'], axis= 1, inplace= True)\n",
        "num = data.isnull().sum()\n",
        "percent = num/data.shape[0]*100\n",
        "percent"
      ],
      "execution_count": null,
      "outputs": []
    },
    {
      "cell_type": "code",
      "metadata": {
        "id": "b6HvtyjAa9_6"
      },
      "source": [
        "data[\"T\"] = data.groupby(\"Date\")[\"T\"].transform(lambda x: x.fillna(x.mean()))\n",
        "data[\"CO(GT)\"] = data.groupby(\"Date\")[\"CO(GT)\"].transform(lambda x: x.fillna(x.mean()))\n",
        "data[\"NOx(GT)\"] = data.groupby(\"Date\")[\"NOx(GT)\"].transform(lambda x: x.fillna(x.mean()))\n",
        "data[\"NO2(GT)\"] = data.groupby(\"Date\")[\"NO2(GT)\""
      ],
      "execution_count": null,
      "outputs": []
    },
    {
      "cell_type": "code",
      "metadata": {
        "id": "6PG6vW_8bAOO"
      },
      "source": [
        "num = data.isnull().sum()\n",
        "percent = num/data.shape[0]*100\n",
        "percent"
      ],
      "execution_count": null,
      "outputs": []
    },
    {
      "cell_type": "code",
      "metadata": {
        "id": "B6v46KiTbEnG"
      },
      "source": [
        "import seaborn as sns\n",
        "sns.heatmap(data.isnull(),yticklabels=False,cbar=False,cmap='viridis')"
      ],
      "execution_count": null,
      "outputs": []
    },
    {
      "cell_type": "code",
      "metadata": {
        "id": "_eutTsBfbGwa"
      },
      "source": [
        "data.fillna(method='ffill', inplace= True)"
      ],
      "execution_count": null,
      "outputs": []
    },
    {
      "cell_type": "code",
      "metadata": {
        "id": "jxE1pqa4bIPy"
      },
      "source": [
        "num = data.isnull().sum()\n",
        "percent = num/data.shape[0]*100\n",
        "percent"
      ],
      "execution_count": null,
      "outputs": []
    },
    {
      "cell_type": "code",
      "metadata": {
        "id": "QVsRHqtybKcI"
      },
      "source": [
        "X1 = data.drop(['Time'], axis=1, inplace=False)\n",
        "X = X1.drop(['Date'], axis=1, inplace=False)\n",
        "X.head()"
      ],
      "execution_count": null,
      "outputs": []
    },
    {
      "cell_type": "code",
      "metadata": {
        "id": "3FoHTbRbbMPi"
      },
      "source": [
        "from sklearn.cluster import Birch\n",
        "birch = Birch()\n",
        "birch.fit_predict(X)"
      ],
      "execution_count": null,
      "outputs": []
    },
    {
      "cell_type": "code",
      "metadata": {
        "id": "fJjrYaKmbN8U"
      },
      "source": [
        "import numpy as np\n",
        "from sklearn.cluster import AgglomerativeClustering"
      ],
      "execution_count": null,
      "outputs": []
    },
    {
      "cell_type": "code",
      "metadata": {
        "id": "kT4vXM50bP8u"
      },
      "source": [
        "agg = AgglomerativeClustering(affinity='euclidean', compute_full_tree='auto',\n",
        "                        connectivity=None, distance_threshold=None,\n",
        "                        linkage='ward', memory=None, n_clusters=2)\n",
        "agg.fit(X)"
      ],
      "execution_count": null,
      "outputs": []
    },
    {
      "cell_type": "code",
      "metadata": {
        "id": "Kh9mN_UEbRvD"
      },
      "source": [
        "from sklearn.cluster import SpectralClustering"
      ],
      "execution_count": null,
      "outputs": []
    },
    {
      "cell_type": "code",
      "metadata": {
        "id": "-v2imQNTbTg7"
      },
      "source": [
        "spclus = SpectralClustering()\n",
        "spclus.fit(X)"
      ],
      "execution_count": null,
      "outputs": []
    },
    {
      "cell_type": "code",
      "metadata": {
        "id": "aTemNNofbVTx"
      },
      "source": [
        ""
      ],
      "execution_count": null,
      "outputs": []
    }
  ]
}