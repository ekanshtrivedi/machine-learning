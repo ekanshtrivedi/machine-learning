{
  "nbformat": 4,
  "nbformat_minor": 0,
  "metadata": {
    "colab": {
      "name": "ML_J066_EXP_7.ipynb",
      "provenance": [],
      "authorship_tag": "ABX9TyPRcLspTZnwrr/9QdW2dQLF",
      "include_colab_link": true
    },
    "kernelspec": {
      "name": "python3",
      "display_name": "Python 3"
    },
    "accelerator": "GPU"
  },
  "cells": [
    {
      "cell_type": "markdown",
      "metadata": {
        "id": "view-in-github",
        "colab_type": "text"
      },
      "source": [
        "<a href=\"https://colab.research.google.com/github/ekanshtrivedi/machine-learning/blob/master/ML_J066_EXP_7.ipynb\" target=\"_parent\"><img src=\"https://colab.research.google.com/assets/colab-badge.svg\" alt=\"Open In Colab\"/></a>"
      ]
    },
    {
      "cell_type": "code",
      "metadata": {
        "id": "HmME1OxjEAEE"
      },
      "source": [
        "import pandas as pd\n",
        "import numpy as np\n",
        "from sklearn.datasets import fetch_covtype, fetch_kddcup99, fetch_lfw_pairs, fetch_lfw_people, fetch_olivetti_faces\n",
        "from sklearn.datasets import fetch_rcv1, load_breast_cancer, load_digits, load_wine"
      ],
      "execution_count": 1,
      "outputs": []
    },
    {
      "cell_type": "code",
      "metadata": {
        "id": "zjUVIpHQEJ6i"
      },
      "source": [
        "from sklearn.model_selection import train_test_split\n",
        "from sklearn.preprocessing import LabelEncoder, StandardScaler\n",
        "from scipy.sparse import csr_matrix\n",
        "import matplotlib.pyplot as plt"
      ],
      "execution_count": 2,
      "outputs": []
    },
    {
      "cell_type": "code",
      "metadata": {
        "id": "-5Jl_kkFEMCt"
      },
      "source": [
        "from keras import models\n",
        "from keras import layers\n",
        "from keras.utils import to_categorical"
      ],
      "execution_count": 3,
      "outputs": []
    },
    {
      "cell_type": "markdown",
      "metadata": {
        "id": "ICgfbVByEOb0"
      },
      "source": [
        "COVTYPE"
      ]
    },
    {
      "cell_type": "code",
      "metadata": {
        "id": "LzaPTB9zEQMk",
        "outputId": "72e53028-642b-4860-e0eb-2be54307ef5d",
        "colab": {
          "base_uri": "https://localhost:8080/"
        }
      },
      "source": [
        "forest = fetch_covtype()\n",
        "x = forest.data\n",
        "y = forest.target"
      ],
      "execution_count": 4,
      "outputs": [
        {
          "output_type": "stream",
          "text": [
            "Downloading https://ndownloader.figshare.com/files/5976039\n"
          ],
          "name": "stderr"
        }
      ]
    },
    {
      "cell_type": "code",
      "metadata": {
        "id": "BxZSrDWSETuQ",
        "outputId": "4c355de6-9ace-4715-e991-d69203466431",
        "colab": {
          "base_uri": "https://localhost:8080/"
        }
      },
      "source": [
        "x = pd.DataFrame(x)\n",
        "y = pd.DataFrame(y)\n",
        "print(x.shape)\n",
        "print(y.shape)"
      ],
      "execution_count": 5,
      "outputs": [
        {
          "output_type": "stream",
          "text": [
            "(581012, 54)\n",
            "(581012, 1)\n"
          ],
          "name": "stdout"
        }
      ]
    },
    {
      "cell_type": "code",
      "metadata": {
        "id": "jgvFunE7EWmR",
        "outputId": "44102594-4193-4043-92be-43a6b14a9b97",
        "colab": {
          "base_uri": "https://localhost:8080/"
        }
      },
      "source": [
        "y1 = y.replace([1,2,3,4,5,6,7], [0,1,2,3,4,5,6])\n",
        "y1 = to_categorical(y1)\n",
        "x_train, x_test, y_train, y_test = train_test_split(x, y1, test_size = 0.2)\n",
        "x_dev, x_test, y_dev, y_test = train_test_split(x_test, y_test, test_size = 0.5)\n",
        "print(x_train.shape)\n",
        "print(x_dev.shape)\n",
        "print(x_test.shape)\n",
        "print(y_train.shape)\n",
        "print(y_dev.shape)\n",
        "print(y_test.shape)"
      ],
      "execution_count": 6,
      "outputs": [
        {
          "output_type": "stream",
          "text": [
            "(464809, 54)\n",
            "(58101, 54)\n",
            "(58102, 54)\n",
            "(464809, 7)\n",
            "(58101, 7)\n",
            "(58102, 7)\n"
          ],
          "name": "stdout"
        }
      ]
    },
    {
      "cell_type": "code",
      "metadata": {
        "id": "3aiVkq7bEZMs"
      },
      "source": [
        "nn = models.Sequential()\n",
        "nn.add(layers.Dense(1024, activation = 'relu', input_shape = (54, )))\n",
        "nn.add(layers.Dense(512, activation = 'relu'))\n",
        "nn.add(layers.Dense(256, activation = 'relu'))\n",
        "nn.add(layers.Dense(128, activation = 'relu'))\n",
        "nn.add(layers.Dense(54, activation = 'relu'))\n",
        "nn.add(layers.Dense(7, activation = 'softmax'))\n",
        "nn.compile(optimizer = 'adam', loss = 'categorical_crossentropy', metrics = ['accuracy'])"
      ],
      "execution_count": 7,
      "outputs": []
    },
    {
      "cell_type": "code",
      "metadata": {
        "id": "5yKPtYfGEgA7",
        "outputId": "b9ee2bab-e3b5-4e7b-9b5e-a662d79c364e",
        "colab": {
          "base_uri": "https://localhost:8080/"
        }
      },
      "source": [
        "history = nn.fit(x_train, y_train, epochs = 100, batch_size = 5000, validation_data = (x_dev, y_dev))"
      ],
      "execution_count": 8,
      "outputs": [
        {
          "output_type": "stream",
          "text": [
            "Epoch 1/100\n",
            "93/93 [==============================] - 1s 13ms/step - loss: 21.8546 - accuracy: 0.4106 - val_loss: 2.6446 - val_accuracy: 0.3894\n",
            "Epoch 2/100\n",
            "93/93 [==============================] - 1s 9ms/step - loss: 2.9562 - accuracy: 0.4577 - val_loss: 0.9610 - val_accuracy: 0.5900\n",
            "Epoch 3/100\n",
            "93/93 [==============================] - 1s 10ms/step - loss: 0.8982 - accuracy: 0.6224 - val_loss: 0.8697 - val_accuracy: 0.6321\n",
            "Epoch 4/100\n",
            "93/93 [==============================] - 1s 9ms/step - loss: 0.8964 - accuracy: 0.6077 - val_loss: 0.8887 - val_accuracy: 0.5831\n",
            "Epoch 5/100\n",
            "93/93 [==============================] - 1s 10ms/step - loss: 0.7775 - accuracy: 0.6734 - val_loss: 0.7383 - val_accuracy: 0.6945\n",
            "Epoch 6/100\n",
            "93/93 [==============================] - 1s 10ms/step - loss: 1.2190 - accuracy: 0.6185 - val_loss: 1.1413 - val_accuracy: 0.6531\n",
            "Epoch 7/100\n",
            "93/93 [==============================] - 1s 10ms/step - loss: 0.8041 - accuracy: 0.6770 - val_loss: 0.7069 - val_accuracy: 0.7147\n",
            "Epoch 8/100\n",
            "93/93 [==============================] - 1s 10ms/step - loss: 0.6985 - accuracy: 0.7097 - val_loss: 0.6734 - val_accuracy: 0.7235\n",
            "Epoch 9/100\n",
            "93/93 [==============================] - 1s 10ms/step - loss: 0.6955 - accuracy: 0.7003 - val_loss: 0.6963 - val_accuracy: 0.6962\n",
            "Epoch 10/100\n",
            "93/93 [==============================] - 1s 10ms/step - loss: 0.7117 - accuracy: 0.6881 - val_loss: 0.6660 - val_accuracy: 0.7163\n",
            "Epoch 11/100\n",
            "93/93 [==============================] - 1s 10ms/step - loss: 0.6413 - accuracy: 0.7281 - val_loss: 0.6345 - val_accuracy: 0.7288\n",
            "Epoch 12/100\n",
            "93/93 [==============================] - 1s 10ms/step - loss: 0.6461 - accuracy: 0.7211 - val_loss: 0.6440 - val_accuracy: 0.7241\n",
            "Epoch 13/100\n",
            "93/93 [==============================] - 1s 10ms/step - loss: 0.6187 - accuracy: 0.7355 - val_loss: 0.6214 - val_accuracy: 0.7346\n",
            "Epoch 14/100\n",
            "93/93 [==============================] - 1s 10ms/step - loss: 0.6350 - accuracy: 0.7218 - val_loss: 0.6199 - val_accuracy: 0.7290\n",
            "Epoch 15/100\n",
            "93/93 [==============================] - 1s 10ms/step - loss: 0.6036 - accuracy: 0.7405 - val_loss: 0.6482 - val_accuracy: 0.7173\n",
            "Epoch 16/100\n",
            "93/93 [==============================] - 1s 10ms/step - loss: 0.6385 - accuracy: 0.7228 - val_loss: 0.7697 - val_accuracy: 0.6550\n",
            "Epoch 17/100\n",
            "93/93 [==============================] - 1s 10ms/step - loss: 0.6086 - accuracy: 0.7386 - val_loss: 0.5568 - val_accuracy: 0.7670\n",
            "Epoch 18/100\n",
            "93/93 [==============================] - 1s 9ms/step - loss: 0.5694 - accuracy: 0.7564 - val_loss: 0.6049 - val_accuracy: 0.7373\n",
            "Epoch 19/100\n",
            "93/93 [==============================] - 1s 9ms/step - loss: 0.5724 - accuracy: 0.7543 - val_loss: 0.5809 - val_accuracy: 0.7537\n",
            "Epoch 20/100\n",
            "93/93 [==============================] - 1s 9ms/step - loss: 0.5608 - accuracy: 0.7607 - val_loss: 0.5386 - val_accuracy: 0.7726\n",
            "Epoch 21/100\n",
            "93/93 [==============================] - 1s 10ms/step - loss: 0.5557 - accuracy: 0.7624 - val_loss: 0.5588 - val_accuracy: 0.7608\n",
            "Epoch 22/100\n",
            "93/93 [==============================] - 1s 10ms/step - loss: 0.6556 - accuracy: 0.7335 - val_loss: 0.6175 - val_accuracy: 0.7424\n",
            "Epoch 23/100\n",
            "93/93 [==============================] - 1s 9ms/step - loss: 0.5588 - accuracy: 0.7622 - val_loss: 0.5274 - val_accuracy: 0.7766\n",
            "Epoch 24/100\n",
            "93/93 [==============================] - 1s 9ms/step - loss: 0.5320 - accuracy: 0.7724 - val_loss: 0.5355 - val_accuracy: 0.7735\n",
            "Epoch 25/100\n",
            "93/93 [==============================] - 1s 10ms/step - loss: 0.5264 - accuracy: 0.7754 - val_loss: 0.5111 - val_accuracy: 0.7850\n",
            "Epoch 26/100\n",
            "93/93 [==============================] - 1s 9ms/step - loss: 0.5391 - accuracy: 0.7686 - val_loss: 0.5524 - val_accuracy: 0.7635\n",
            "Epoch 27/100\n",
            "93/93 [==============================] - 1s 9ms/step - loss: 0.5327 - accuracy: 0.7709 - val_loss: 0.5391 - val_accuracy: 0.7680\n",
            "Epoch 28/100\n",
            "93/93 [==============================] - 1s 10ms/step - loss: 0.5240 - accuracy: 0.7750 - val_loss: 0.5451 - val_accuracy: 0.7620\n",
            "Epoch 29/100\n",
            "93/93 [==============================] - 1s 10ms/step - loss: 0.5166 - accuracy: 0.7790 - val_loss: 0.5000 - val_accuracy: 0.7882\n",
            "Epoch 30/100\n",
            "93/93 [==============================] - 1s 10ms/step - loss: 0.5159 - accuracy: 0.7790 - val_loss: 0.5139 - val_accuracy: 0.7781\n",
            "Epoch 31/100\n",
            "93/93 [==============================] - 1s 10ms/step - loss: 0.5088 - accuracy: 0.7811 - val_loss: 0.5296 - val_accuracy: 0.7689\n",
            "Epoch 32/100\n",
            "93/93 [==============================] - 1s 10ms/step - loss: 0.5009 - accuracy: 0.7850 - val_loss: 0.5109 - val_accuracy: 0.7843\n",
            "Epoch 33/100\n",
            "93/93 [==============================] - 1s 10ms/step - loss: 0.9790 - accuracy: 0.7235 - val_loss: 1.9088 - val_accuracy: 0.6082\n",
            "Epoch 34/100\n",
            "93/93 [==============================] - 1s 9ms/step - loss: 0.8395 - accuracy: 0.6875 - val_loss: 0.6262 - val_accuracy: 0.7339\n",
            "Epoch 35/100\n",
            "93/93 [==============================] - 1s 10ms/step - loss: 0.5936 - accuracy: 0.7508 - val_loss: 0.5660 - val_accuracy: 0.7623\n",
            "Epoch 36/100\n",
            "93/93 [==============================] - 1s 9ms/step - loss: 0.5664 - accuracy: 0.7604 - val_loss: 0.5416 - val_accuracy: 0.7707\n",
            "Epoch 37/100\n",
            "93/93 [==============================] - 1s 10ms/step - loss: 0.5457 - accuracy: 0.7685 - val_loss: 0.5271 - val_accuracy: 0.7763\n",
            "Epoch 38/100\n",
            "93/93 [==============================] - 1s 10ms/step - loss: 0.5405 - accuracy: 0.7698 - val_loss: 0.5308 - val_accuracy: 0.7739\n",
            "Epoch 39/100\n",
            "93/93 [==============================] - 1s 10ms/step - loss: 0.5240 - accuracy: 0.7772 - val_loss: 0.5045 - val_accuracy: 0.7866\n",
            "Epoch 40/100\n",
            "93/93 [==============================] - 1s 10ms/step - loss: 0.5125 - accuracy: 0.7823 - val_loss: 0.5150 - val_accuracy: 0.7816\n",
            "Epoch 41/100\n",
            "93/93 [==============================] - 1s 9ms/step - loss: 0.5126 - accuracy: 0.7812 - val_loss: 0.5465 - val_accuracy: 0.7567\n",
            "Epoch 42/100\n",
            "93/93 [==============================] - 1s 10ms/step - loss: 0.5139 - accuracy: 0.7792 - val_loss: 0.4837 - val_accuracy: 0.7937\n",
            "Epoch 43/100\n",
            "93/93 [==============================] - 1s 10ms/step - loss: 0.4924 - accuracy: 0.7901 - val_loss: 0.5520 - val_accuracy: 0.7540\n",
            "Epoch 44/100\n",
            "93/93 [==============================] - 1s 10ms/step - loss: 0.4777 - accuracy: 0.7962 - val_loss: 0.4719 - val_accuracy: 0.7996\n",
            "Epoch 45/100\n",
            "93/93 [==============================] - 1s 10ms/step - loss: 0.4876 - accuracy: 0.7907 - val_loss: 0.4548 - val_accuracy: 0.8082\n",
            "Epoch 46/100\n",
            "93/93 [==============================] - 1s 10ms/step - loss: 0.4714 - accuracy: 0.7993 - val_loss: 0.4678 - val_accuracy: 0.8014\n",
            "Epoch 47/100\n",
            "93/93 [==============================] - 1s 10ms/step - loss: 0.4739 - accuracy: 0.7972 - val_loss: 0.4786 - val_accuracy: 0.7973\n",
            "Epoch 48/100\n",
            "93/93 [==============================] - 1s 10ms/step - loss: 0.4533 - accuracy: 0.8073 - val_loss: 0.4468 - val_accuracy: 0.8126\n",
            "Epoch 49/100\n",
            "93/93 [==============================] - 1s 10ms/step - loss: 0.4616 - accuracy: 0.8030 - val_loss: 0.4653 - val_accuracy: 0.8027\n",
            "Epoch 50/100\n",
            "93/93 [==============================] - 1s 10ms/step - loss: 0.4499 - accuracy: 0.8081 - val_loss: 0.4415 - val_accuracy: 0.8164\n",
            "Epoch 51/100\n",
            "93/93 [==============================] - 1s 10ms/step - loss: 0.4709 - accuracy: 0.8006 - val_loss: 0.4389 - val_accuracy: 0.8135\n",
            "Epoch 52/100\n",
            "93/93 [==============================] - 1s 10ms/step - loss: 0.4390 - accuracy: 0.8139 - val_loss: 0.4246 - val_accuracy: 0.8211\n",
            "Epoch 53/100\n",
            "93/93 [==============================] - 1s 10ms/step - loss: 0.4370 - accuracy: 0.8134 - val_loss: 0.4246 - val_accuracy: 0.8192\n",
            "Epoch 54/100\n",
            "93/93 [==============================] - 1s 10ms/step - loss: 0.4281 - accuracy: 0.8180 - val_loss: 0.4389 - val_accuracy: 0.8185\n",
            "Epoch 55/100\n",
            "93/93 [==============================] - 1s 10ms/step - loss: 0.4466 - accuracy: 0.8085 - val_loss: 0.4273 - val_accuracy: 0.8176\n",
            "Epoch 56/100\n",
            "93/93 [==============================] - 1s 10ms/step - loss: 0.4191 - accuracy: 0.8220 - val_loss: 0.4207 - val_accuracy: 0.8229\n",
            "Epoch 57/100\n",
            "93/93 [==============================] - 1s 10ms/step - loss: 0.4402 - accuracy: 0.8133 - val_loss: 0.4346 - val_accuracy: 0.8097\n",
            "Epoch 58/100\n",
            "93/93 [==============================] - 1s 10ms/step - loss: 0.4180 - accuracy: 0.8222 - val_loss: 0.4054 - val_accuracy: 0.8288\n",
            "Epoch 59/100\n",
            "93/93 [==============================] - 1s 10ms/step - loss: 0.4070 - accuracy: 0.8278 - val_loss: 0.4224 - val_accuracy: 0.8159\n",
            "Epoch 60/100\n",
            "93/93 [==============================] - 1s 10ms/step - loss: 0.4068 - accuracy: 0.8276 - val_loss: 0.4222 - val_accuracy: 0.8196\n",
            "Epoch 61/100\n",
            "93/93 [==============================] - 1s 10ms/step - loss: 0.3996 - accuracy: 0.8308 - val_loss: 0.3929 - val_accuracy: 0.8351\n",
            "Epoch 62/100\n",
            "93/93 [==============================] - 1s 10ms/step - loss: 0.4021 - accuracy: 0.8288 - val_loss: 0.3919 - val_accuracy: 0.8356\n",
            "Epoch 63/100\n",
            "93/93 [==============================] - 1s 10ms/step - loss: 0.4123 - accuracy: 0.8249 - val_loss: 0.3970 - val_accuracy: 0.8322\n",
            "Epoch 64/100\n",
            "93/93 [==============================] - 1s 10ms/step - loss: 0.3852 - accuracy: 0.8373 - val_loss: 0.3940 - val_accuracy: 0.8342\n",
            "Epoch 65/100\n",
            "93/93 [==============================] - 1s 10ms/step - loss: 0.3910 - accuracy: 0.8345 - val_loss: 0.3941 - val_accuracy: 0.8308\n",
            "Epoch 66/100\n",
            "93/93 [==============================] - 1s 10ms/step - loss: 0.3877 - accuracy: 0.8355 - val_loss: 0.4000 - val_accuracy: 0.8295\n",
            "Epoch 67/100\n",
            "93/93 [==============================] - 1s 10ms/step - loss: 0.3757 - accuracy: 0.8410 - val_loss: 0.3716 - val_accuracy: 0.8428\n",
            "Epoch 68/100\n",
            "93/93 [==============================] - 1s 10ms/step - loss: 0.3789 - accuracy: 0.8394 - val_loss: 0.3987 - val_accuracy: 0.8292\n",
            "Epoch 69/100\n",
            "93/93 [==============================] - 1s 10ms/step - loss: 0.3789 - accuracy: 0.8389 - val_loss: 0.3760 - val_accuracy: 0.8444\n",
            "Epoch 70/100\n",
            "93/93 [==============================] - 1s 10ms/step - loss: 0.3792 - accuracy: 0.8396 - val_loss: 0.3701 - val_accuracy: 0.8454\n",
            "Epoch 71/100\n",
            "93/93 [==============================] - 1s 10ms/step - loss: 0.3646 - accuracy: 0.8458 - val_loss: 0.3949 - val_accuracy: 0.8312\n",
            "Epoch 72/100\n",
            "93/93 [==============================] - 1s 10ms/step - loss: 0.3570 - accuracy: 0.8493 - val_loss: 0.3636 - val_accuracy: 0.8470\n",
            "Epoch 73/100\n",
            "93/93 [==============================] - 1s 10ms/step - loss: 0.3604 - accuracy: 0.8479 - val_loss: 0.3545 - val_accuracy: 0.8517\n",
            "Epoch 74/100\n",
            "93/93 [==============================] - 1s 10ms/step - loss: 0.3525 - accuracy: 0.8516 - val_loss: 0.3623 - val_accuracy: 0.8470\n",
            "Epoch 75/100\n",
            "93/93 [==============================] - 1s 10ms/step - loss: 0.3681 - accuracy: 0.8446 - val_loss: 0.3421 - val_accuracy: 0.8575\n",
            "Epoch 76/100\n",
            "93/93 [==============================] - 1s 10ms/step - loss: 0.3488 - accuracy: 0.8531 - val_loss: 0.3467 - val_accuracy: 0.8517\n",
            "Epoch 77/100\n",
            "93/93 [==============================] - 1s 10ms/step - loss: 0.3466 - accuracy: 0.8541 - val_loss: 0.3506 - val_accuracy: 0.8535\n",
            "Epoch 78/100\n",
            "93/93 [==============================] - 1s 10ms/step - loss: 0.3542 - accuracy: 0.8504 - val_loss: 0.3556 - val_accuracy: 0.8467\n",
            "Epoch 79/100\n",
            "93/93 [==============================] - 1s 10ms/step - loss: 0.3321 - accuracy: 0.8609 - val_loss: 0.3364 - val_accuracy: 0.8587\n",
            "Epoch 80/100\n",
            "93/93 [==============================] - 1s 10ms/step - loss: 0.3344 - accuracy: 0.8596 - val_loss: 0.3253 - val_accuracy: 0.8649\n",
            "Epoch 81/100\n",
            "93/93 [==============================] - 1s 10ms/step - loss: 0.3356 - accuracy: 0.8591 - val_loss: 0.3684 - val_accuracy: 0.8416\n",
            "Epoch 82/100\n",
            "93/93 [==============================] - 1s 10ms/step - loss: 0.3209 - accuracy: 0.8656 - val_loss: 0.3285 - val_accuracy: 0.8613\n",
            "Epoch 83/100\n",
            "93/93 [==============================] - 1s 10ms/step - loss: 0.3380 - accuracy: 0.8577 - val_loss: 0.3331 - val_accuracy: 0.8597\n",
            "Epoch 84/100\n",
            "93/93 [==============================] - 1s 10ms/step - loss: 0.3219 - accuracy: 0.8655 - val_loss: 0.3381 - val_accuracy: 0.8585\n",
            "Epoch 85/100\n",
            "93/93 [==============================] - 1s 10ms/step - loss: 0.3197 - accuracy: 0.8667 - val_loss: 0.3222 - val_accuracy: 0.8664\n",
            "Epoch 86/100\n",
            "93/93 [==============================] - 1s 10ms/step - loss: 0.3223 - accuracy: 0.8648 - val_loss: 0.3118 - val_accuracy: 0.8719\n",
            "Epoch 87/100\n",
            "93/93 [==============================] - 1s 10ms/step - loss: 0.3165 - accuracy: 0.8674 - val_loss: 0.3403 - val_accuracy: 0.8561\n",
            "Epoch 88/100\n",
            "93/93 [==============================] - 1s 10ms/step - loss: 0.3151 - accuracy: 0.8679 - val_loss: 0.3301 - val_accuracy: 0.8616\n",
            "Epoch 89/100\n",
            "93/93 [==============================] - 1s 10ms/step - loss: 0.3094 - accuracy: 0.8706 - val_loss: 0.3207 - val_accuracy: 0.8656\n",
            "Epoch 90/100\n",
            "93/93 [==============================] - 1s 10ms/step - loss: 0.3015 - accuracy: 0.8744 - val_loss: 0.3135 - val_accuracy: 0.8698\n",
            "Epoch 91/100\n",
            "93/93 [==============================] - 1s 10ms/step - loss: 0.3143 - accuracy: 0.8684 - val_loss: 0.3211 - val_accuracy: 0.8648\n",
            "Epoch 92/100\n",
            "93/93 [==============================] - 1s 10ms/step - loss: 0.2922 - accuracy: 0.8783 - val_loss: 0.2891 - val_accuracy: 0.8808\n",
            "Epoch 93/100\n",
            "93/93 [==============================] - 1s 10ms/step - loss: 0.2982 - accuracy: 0.8757 - val_loss: 0.2994 - val_accuracy: 0.8749\n",
            "Epoch 94/100\n",
            "93/93 [==============================] - 1s 10ms/step - loss: 0.2928 - accuracy: 0.8783 - val_loss: 0.2918 - val_accuracy: 0.8792\n",
            "Epoch 95/100\n",
            "93/93 [==============================] - 1s 10ms/step - loss: 0.2971 - accuracy: 0.8763 - val_loss: 0.3287 - val_accuracy: 0.8632\n",
            "Epoch 96/100\n",
            "93/93 [==============================] - 1s 10ms/step - loss: 0.2845 - accuracy: 0.8816 - val_loss: 0.2890 - val_accuracy: 0.8816\n",
            "Epoch 97/100\n",
            "93/93 [==============================] - 1s 10ms/step - loss: 0.2928 - accuracy: 0.8779 - val_loss: 0.2944 - val_accuracy: 0.8770\n",
            "Epoch 98/100\n",
            "93/93 [==============================] - 1s 10ms/step - loss: 0.2836 - accuracy: 0.8822 - val_loss: 0.3053 - val_accuracy: 0.8712\n",
            "Epoch 99/100\n",
            "93/93 [==============================] - 1s 10ms/step - loss: 0.2805 - accuracy: 0.8839 - val_loss: 0.2982 - val_accuracy: 0.8758\n",
            "Epoch 100/100\n",
            "93/93 [==============================] - 1s 10ms/step - loss: 0.2791 - accuracy: 0.8846 - val_loss: 0.2918 - val_accuracy: 0.8805\n"
          ],
          "name": "stdout"
        }
      ]
    },
    {
      "cell_type": "code",
      "metadata": {
        "id": "p66MdfR8Eixw",
        "outputId": "2c2d28bf-5b0a-45c1-83a6-c7706b1829dc",
        "colab": {
          "base_uri": "https://localhost:8080/"
        }
      },
      "source": [
        "dev_acc = nn.evaluate(x_dev, y_dev)[1]\n",
        "print('The dev accuracy is',dev_acc)"
      ],
      "execution_count": 9,
      "outputs": [
        {
          "output_type": "stream",
          "text": [
            "1816/1816 [==============================] - 4s 2ms/step - loss: 0.2918 - accuracy: 0.8805\n",
            "The dev accuracy is 0.8804667592048645\n"
          ],
          "name": "stdout"
        }
      ]
    },
    {
      "cell_type": "code",
      "metadata": {
        "id": "ikg3buf4Elz6",
        "outputId": "606e01e4-3a85-48a2-8ecc-84d4cc4c765d",
        "colab": {
          "base_uri": "https://localhost:8080/",
          "height": 899
        }
      },
      "source": [
        "plt.figure(figsize = (10,7))\n",
        "plt.plot(history.history['accuracy'], color = 'yellow')\n",
        "plt.plot(history.history['val_accuracy'], color = 'blue')\n",
        "plt.title('Model accuracy')\n",
        "plt.ylabel('Accuracy')\n",
        "plt.xlabel('Epoch')\n",
        "plt.legend(['Train', 'Validation'], loc='upper left')\n",
        "plt.show()\n",
        "\n",
        "plt.figure(figsize = (10,7))\n",
        "plt.plot(history.history['loss'], color = 'yellow')\n",
        "plt.plot(history.history['val_loss'], color = 'blue')\n",
        "plt.ylim((0,1))\n",
        "plt.title('Model loss')\n",
        "plt.ylabel('Loss')\n",
        "plt.xlabel('Epoch')\n",
        "plt.legend(['Train', 'Validation'], loc='upper left')\n",
        "plt.show()"
      ],
      "execution_count": 10,
      "outputs": [
        {
          "output_type": "display_data",
          "data": {
            "image/png": "[encoded data removed]",
            "text/plain": [
              "<Figure size 720x504 with 1 Axes>"
            ]
          },
          "metadata": {
            "tags": [],
            "needs_background": "light"
          }
        },
        {
          "output_type": "display_data",
          "data": {
            "image/png": "[encoded data removed]",
            "text/plain": [
              "<Figure size 720x504 with 1 Axes>"
            ]
          },
          "metadata": {
            "tags": [],
            "needs_background": "light"
          }
        }
      ]
    },
    {
      "cell_type": "markdown",
      "metadata": {
        "id": "kDOQtjaUErWw"
      },
      "source": [
        "KDDCUP99"
      ]
    },
    {
      "cell_type": "code",
      "metadata": {
        "id": "dAjBYCauEoOd",
        "outputId": "9232f38c-53b2-4631-d6cd-cd253b9c4467",
        "colab": {
          "base_uri": "https://localhost:8080/"
        }
      },
      "source": [
        "kddcup99 = fetch_kddcup99()\n",
        "x = kddcup99.data\n",
        "y_fetch = kddcup99.target"
      ],
      "execution_count": 11,
      "outputs": [
        {
          "output_type": "stream",
          "text": [
            "Downloading https://ndownloader.figshare.com/files/5976042\n"
          ],
          "name": "stderr"
        }
      ]
    },
    {
      "cell_type": "code",
      "metadata": {
        "id": "DPw8yD3qEugb",
        "outputId": "759eb34b-81e2-4631-c731-e1f2b7589889",
        "colab": {
          "base_uri": "https://localhost:8080/"
        }
      },
      "source": [
        "x = pd.DataFrame(x)\n",
        "y = pd.DataFrame(y_fetch)\n",
        "print(x.shape)\n",
        "print(y.shape)"
      ],
      "execution_count": 12,
      "outputs": [
        {
          "output_type": "stream",
          "text": [
            "(494021, 41)\n",
            "(494021, 1)\n"
          ],
          "name": "stdout"
        }
      ]
    },
    {
      "cell_type": "code",
      "metadata": {
        "id": "o-DSIWClEwva"
      },
      "source": [
        "le = LabelEncoder()\n",
        "for i in [1,2,3]:\n",
        "  x[i] = [j.decode('utf-8') for j in x[i]]\n",
        "  x[i] = le.fit_transform(x[i])\n",
        "\n",
        "for i in range(x.shape[1]):\n",
        "  x[i] = x[i].astype('float')"
      ],
      "execution_count": 13,
      "outputs": []
    },
    {
      "cell_type": "code",
      "metadata": {
        "id": "dqW3xGZZEzM_"
      },
      "source": [
        "y = [i.decode('utf-8') for i in y_fetch]\n",
        "y = pd.DataFrame(le.fit_transform(y))"
      ],
      "execution_count": 14,
      "outputs": []
    },
    {
      "cell_type": "code",
      "metadata": {
        "id": "TAgfqgw5E1lm",
        "outputId": "070a77fd-8e32-4ebd-bdc9-5238ce5e9fc7",
        "colab": {
          "base_uri": "https://localhost:8080/"
        }
      },
      "source": [
        "y = to_categorical(y)\n",
        "x_train, x_test, y_train, y_test = train_test_split(x, y, test_size = 0.2)\n",
        "x_dev, x_test, y_dev, y_test = train_test_split(x_test, y_test, test_size = 0.5)\n",
        "print(x_train.shape)\n",
        "print(x_dev.shape)\n",
        "print(x_test.shape)\n",
        "print(y_train.shape)\n",
        "print(y_dev.shape)\n",
        "print(y_test.shape)"
      ],
      "execution_count": 15,
      "outputs": [
        {
          "output_type": "stream",
          "text": [
            "(395216, 41)\n",
            "(49402, 41)\n",
            "(49403, 41)\n",
            "(395216, 23)\n",
            "(49402, 23)\n",
            "(49403, 23)\n"
          ],
          "name": "stdout"
        }
      ]
    },
    {
      "cell_type": "code",
      "metadata": {
        "id": "UHQHvTGIE3rj"
      },
      "source": [
        "nn = models.Sequential()\n",
        "nn.add(layers.Dense(1024, activation = 'relu', input_shape = (41, )))\n",
        "nn.add(layers.Dense(512, activation = 'relu'))\n",
        "nn.add(layers.Dense(256, activation = 'relu'))\n",
        "nn.add(layers.Dense(128, activation = 'relu'))\n",
        "nn.add(layers.Dense(54, activation = 'relu'))\n",
        "nn.add(layers.Dense(23, activation = 'softmax'))\n",
        "nn.compile(optimizer = 'adam', loss = 'categorical_crossentropy', metrics = ['accuracy'])"
      ],
      "execution_count": 16,
      "outputs": []
    },
    {
      "cell_type": "code",
      "metadata": {
        "id": "KifsJJHbE7Fe",
        "outputId": "aad6526a-00ca-48cf-aae6-0ec4bd138475",
        "colab": {
          "base_uri": "https://localhost:8080/"
        }
      },
      "source": [
        "history = nn.fit(x_train, y_train, epochs = 20, batch_size = 1500, validation_data = (x_dev, y_dev))"
      ],
      "execution_count": 17,
      "outputs": [
        {
          "output_type": "stream",
          "text": [
            "Epoch 1/20\n",
            "264/264 [==============================] - 2s 6ms/step - loss: 75.7636 - accuracy: 0.9304 - val_loss: 2.3004 - val_accuracy: 0.9465\n",
            "Epoch 2/20\n",
            "264/264 [==============================] - 1s 4ms/step - loss: 42.0573 - accuracy: 0.9614 - val_loss: 1.4265 - val_accuracy: 0.9877\n",
            "Epoch 3/20\n",
            "264/264 [==============================] - 1s 4ms/step - loss: 14.2699 - accuracy: 0.9760 - val_loss: 0.0725 - val_accuracy: 0.9866\n",
            "Epoch 4/20\n",
            "264/264 [==============================] - 1s 5ms/step - loss: 0.2356 - accuracy: 0.9877 - val_loss: 0.0570 - val_accuracy: 0.9913\n",
            "Epoch 5/20\n",
            "264/264 [==============================] - 1s 4ms/step - loss: 0.0968 - accuracy: 0.9898 - val_loss: 0.0472 - val_accuracy: 0.9915\n",
            "Epoch 6/20\n",
            "264/264 [==============================] - 1s 4ms/step - loss: 0.1052 - accuracy: 0.9904 - val_loss: 0.0546 - val_accuracy: 0.9914\n",
            "Epoch 7/20\n",
            "264/264 [==============================] - 1s 4ms/step - loss: 0.0729 - accuracy: 0.9900 - val_loss: 0.6573 - val_accuracy: 0.9904\n",
            "Epoch 8/20\n",
            "264/264 [==============================] - 1s 4ms/step - loss: 0.6408 - accuracy: 0.9859 - val_loss: 0.0945 - val_accuracy: 0.9915\n",
            "Epoch 9/20\n",
            "264/264 [==============================] - 1s 4ms/step - loss: 0.0861 - accuracy: 0.9918 - val_loss: 0.0426 - val_accuracy: 0.9922\n",
            "Epoch 10/20\n",
            "264/264 [==============================] - 1s 5ms/step - loss: 0.3827 - accuracy: 0.9876 - val_loss: 0.1004 - val_accuracy: 0.9907\n",
            "Epoch 11/20\n",
            "264/264 [==============================] - 1s 5ms/step - loss: 0.0927 - accuracy: 0.9910 - val_loss: 0.0695 - val_accuracy: 0.9916\n",
            "Epoch 12/20\n",
            "264/264 [==============================] - 1s 4ms/step - loss: 0.0822 - accuracy: 0.9912 - val_loss: 0.0782 - val_accuracy: 0.9920\n",
            "Epoch 13/20\n",
            "264/264 [==============================] - 1s 5ms/step - loss: 0.0615 - accuracy: 0.9920 - val_loss: 0.0466 - val_accuracy: 0.9924\n",
            "Epoch 14/20\n",
            "264/264 [==============================] - 1s 5ms/step - loss: 0.0477 - accuracy: 0.9926 - val_loss: 0.0407 - val_accuracy: 0.9930\n",
            "Epoch 15/20\n",
            "264/264 [==============================] - 1s 4ms/step - loss: 0.0386 - accuracy: 0.9928 - val_loss: 0.0452 - val_accuracy: 0.9931\n",
            "Epoch 16/20\n",
            "264/264 [==============================] - 1s 5ms/step - loss: 0.0374 - accuracy: 0.9928 - val_loss: 0.0338 - val_accuracy: 0.9929\n",
            "Epoch 17/20\n",
            "264/264 [==============================] - 1s 4ms/step - loss: 0.0373 - accuracy: 0.9923 - val_loss: 0.0492 - val_accuracy: 0.9926\n",
            "Epoch 18/20\n",
            "264/264 [==============================] - 1s 5ms/step - loss: 0.0378 - accuracy: 0.9929 - val_loss: 0.0337 - val_accuracy: 0.9921\n",
            "Epoch 19/20\n",
            "264/264 [==============================] - 1s 5ms/step - loss: 0.0342 - accuracy: 0.9928 - val_loss: 0.0388 - val_accuracy: 0.9926\n",
            "Epoch 20/20\n",
            "264/264 [==============================] - 1s 5ms/step - loss: 0.0390 - accuracy: 0.9921 - val_loss: 0.0383 - val_accuracy: 0.9920\n"
          ],
          "name": "stdout"
        }
      ]
    },
    {
      "cell_type": "code",
      "metadata": {
        "id": "Ysc2XEA7E96z",
        "outputId": "4468555f-92e6-4e10-c82f-c5481a40f487",
        "colab": {
          "base_uri": "https://localhost:8080/"
        }
      },
      "source": [
        "dev_acc = nn.evaluate(x_dev, y_dev)[1]\n",
        "print('The dev accuracy is', dev_acc)"
      ],
      "execution_count": 18,
      "outputs": [
        {
          "output_type": "stream",
          "text": [
            "1544/1544 [==============================] - 3s 2ms/step - loss: 0.0383 - accuracy: 0.9920\n",
            "The dev accuracy is 0.99200439453125\n"
          ],
          "name": "stdout"
        }
      ]
    },
    {
      "cell_type": "code",
      "metadata": {
        "id": "xLXvrm0vFAmz",
        "outputId": "600bd9c1-4edc-4430-ed6d-abaa08ea3cee",
        "colab": {
          "base_uri": "https://localhost:8080/",
          "height": 899
        }
      },
      "source": [
        "plt.figure(figsize = (10,7))\n",
        "plt.plot(history.history['accuracy'], color = 'yellow')\n",
        "plt.plot(history.history['val_accuracy'], color = 'blue')\n",
        "plt.title('Model accuracy')\n",
        "plt.ylabel('Accuracy')\n",
        "plt.xlabel('Epoch')\n",
        "plt.legend(['Train', 'Validation'], loc='upper left')\n",
        "plt.show()\n",
        "\n",
        "plt.figure(figsize = (10,7))\n",
        "plt.plot(history.history['loss'], color = 'yellow')\n",
        "plt.plot(history.history['val_loss'], color = 'blue')\n",
        "plt.ylim((0,3))\n",
        "plt.title('Model loss')\n",
        "plt.ylabel('Loss')\n",
        "plt.xlabel('Epoch')\n",
        "plt.legend(['Train', 'Validation'], loc='upper left')\n",
        "plt.show()"
      ],
      "execution_count": 19,
      "outputs": [
        {
          "output_type": "display_data",
          "data": {
            "image/png": "[encoded data removed]",
            "text/plain": [
              "<Figure size 720x504 with 1 Axes>"
            ]
          },
          "metadata": {
            "tags": [],
            "needs_background": "light"
          }
        },
        {
          "output_type": "display_data",
          "data": {
            "image/png": "[encoded data removed]",
            "text/plain": [
              "<Figure size 720x504 with 1 Axes>"
            ]
          },
          "metadata": {
            "tags": [],
            "needs_background": "light"
          }
        }
      ]
    },
    {
      "cell_type": "markdown",
      "metadata": {
        "id": "LOX6jh6qFGZx"
      },
      "source": [
        "BREAST CANCER"
      ]
    },
    {
      "cell_type": "code",
      "metadata": {
        "id": "IO_gufVoFDat"
      },
      "source": [
        "cancer = load_breast_cancer()\n",
        "x = cancer.data\n",
        "y = cancer.target"
      ],
      "execution_count": 20,
      "outputs": []
    },
    {
      "cell_type": "code",
      "metadata": {
        "id": "AZIicMioFJXi",
        "outputId": "df061130-7246-4b6f-bc08-9e96d809dde2",
        "colab": {
          "base_uri": "https://localhost:8080/"
        }
      },
      "source": [
        "x = pd.DataFrame(x)\n",
        "y = pd.DataFrame(y)\n",
        "print(x.shape)\n",
        "print(y.shape)"
      ],
      "execution_count": 21,
      "outputs": [
        {
          "output_type": "stream",
          "text": [
            "(569, 30)\n",
            "(569, 1)\n"
          ],
          "name": "stdout"
        }
      ]
    },
    {
      "cell_type": "code",
      "metadata": {
        "id": "JLcGpWU8FMFm"
      },
      "source": [
        "sc = StandardScaler()\n",
        "x = pd.DataFrame(sc.fit_transform(x))"
      ],
      "execution_count": 22,
      "outputs": []
    },
    {
      "cell_type": "code",
      "metadata": {
        "id": "NbcehnLIFOym",
        "outputId": "7c45920b-11ab-43a3-ea08-6189925ce36c",
        "colab": {
          "base_uri": "https://localhost:8080/"
        }
      },
      "source": [
        "x_train, x_test, y_train, y_test = train_test_split(x, y, test_size = 0.2, shuffle = True)\n",
        "x_dev, x_test, y_dev, y_test = train_test_split(x, y, test_size = 0.5, shuffle = True)\n",
        "print(x_train.shape)\n",
        "print(x_dev.shape)\n",
        "print(x_test.shape)\n",
        "print(y_train.shape)\n",
        "print(y_dev.shape)\n",
        "print(y_test.shape)"
      ],
      "execution_count": 23,
      "outputs": [
        {
          "output_type": "stream",
          "text": [
            "(455, 30)\n",
            "(284, 30)\n",
            "(285, 30)\n",
            "(455, 1)\n",
            "(284, 1)\n",
            "(285, 1)\n"
          ],
          "name": "stdout"
        }
      ]
    },
    {
      "cell_type": "code",
      "metadata": {
        "id": "nNq-yDi5FRUT"
      },
      "source": [
        "nn= models.Sequential()\n",
        "nn.add(layers.Dense(256, activation = 'relu', input_shape = (30, )))\n",
        "nn.add(layers.Dense(128, activation = 'relu'))\n",
        "nn.add(layers.Dense(64, activation = 'relu'))\n",
        "nn.add(layers.Dense(1, activation = 'sigmoid'))\n",
        "nn.compile(optimizer = 'adam', loss = 'binary_crossentropy', metrics = ['accuracy'])"
      ],
      "execution_count": 24,
      "outputs": []
    },
    {
      "cell_type": "code",
      "metadata": {
        "id": "FYyv2qKFFUtX",
        "outputId": "d56a5718-ab2a-4f06-9b71-e5e7332c2293",
        "colab": {
          "base_uri": "https://localhost:8080/"
        }
      },
      "source": [
        "history = nn.fit(x_train, y_train, epochs = 20, validation_data = (x_dev, y_dev))"
      ],
      "execution_count": 25,
      "outputs": [
        {
          "output_type": "stream",
          "text": [
            "Epoch 1/20\n",
            "15/15 [==============================] - 0s 13ms/step - loss: 0.3777 - accuracy: 0.8703 - val_loss: 0.1525 - val_accuracy: 0.9472\n",
            "Epoch 2/20\n",
            "15/15 [==============================] - 0s 5ms/step - loss: 0.1083 - accuracy: 0.9626 - val_loss: 0.0883 - val_accuracy: 0.9718\n",
            "Epoch 3/20\n",
            "15/15 [==============================] - 0s 5ms/step - loss: 0.0676 - accuracy: 0.9802 - val_loss: 0.0739 - val_accuracy: 0.9859\n",
            "Epoch 4/20\n",
            "15/15 [==============================] - 0s 5ms/step - loss: 0.0544 - accuracy: 0.9824 - val_loss: 0.0644 - val_accuracy: 0.9789\n",
            "Epoch 5/20\n",
            "15/15 [==============================] - 0s 4ms/step - loss: 0.0459 - accuracy: 0.9912 - val_loss: 0.0626 - val_accuracy: 0.9859\n",
            "Epoch 6/20\n",
            "15/15 [==============================] - 0s 5ms/step - loss: 0.0364 - accuracy: 0.9912 - val_loss: 0.0474 - val_accuracy: 0.9824\n",
            "Epoch 7/20\n",
            "15/15 [==============================] - 0s 5ms/step - loss: 0.0307 - accuracy: 0.9934 - val_loss: 0.0396 - val_accuracy: 0.9859\n",
            "Epoch 8/20\n",
            "15/15 [==============================] - 0s 5ms/step - loss: 0.0267 - accuracy: 0.9912 - val_loss: 0.0339 - val_accuracy: 0.9894\n",
            "Epoch 9/20\n",
            "15/15 [==============================] - 0s 4ms/step - loss: 0.0232 - accuracy: 0.9912 - val_loss: 0.0274 - val_accuracy: 0.9930\n",
            "Epoch 10/20\n",
            "15/15 [==============================] - 0s 5ms/step - loss: 0.0192 - accuracy: 0.9934 - val_loss: 0.0242 - val_accuracy: 0.9930\n",
            "Epoch 11/20\n",
            "15/15 [==============================] - 0s 4ms/step - loss: 0.0156 - accuracy: 0.9956 - val_loss: 0.0188 - val_accuracy: 0.9930\n",
            "Epoch 12/20\n",
            "15/15 [==============================] - 0s 4ms/step - loss: 0.0106 - accuracy: 0.9956 - val_loss: 0.0142 - val_accuracy: 0.9930\n",
            "Epoch 13/20\n",
            "15/15 [==============================] - 0s 4ms/step - loss: 0.0113 - accuracy: 0.9934 - val_loss: 0.0160 - val_accuracy: 0.9965\n",
            "Epoch 14/20\n",
            "15/15 [==============================] - 0s 4ms/step - loss: 0.0063 - accuracy: 1.0000 - val_loss: 0.0134 - val_accuracy: 0.9965\n",
            "Epoch 15/20\n",
            "15/15 [==============================] - 0s 4ms/step - loss: 0.0056 - accuracy: 0.9978 - val_loss: 0.0141 - val_accuracy: 0.9965\n",
            "Epoch 16/20\n",
            "15/15 [==============================] - 0s 4ms/step - loss: 0.0048 - accuracy: 1.0000 - val_loss: 0.0118 - val_accuracy: 0.9965\n",
            "Epoch 17/20\n",
            "15/15 [==============================] - 0s 4ms/step - loss: 0.0051 - accuracy: 0.9978 - val_loss: 0.0139 - val_accuracy: 0.9965\n",
            "Epoch 18/20\n",
            "15/15 [==============================] - 0s 4ms/step - loss: 0.0036 - accuracy: 1.0000 - val_loss: 0.0104 - val_accuracy: 0.9965\n",
            "Epoch 19/20\n",
            "15/15 [==============================] - 0s 4ms/step - loss: 0.0042 - accuracy: 0.9978 - val_loss: 0.0158 - val_accuracy: 0.9965\n",
            "Epoch 20/20\n",
            "15/15 [==============================] - 0s 4ms/step - loss: 0.0030 - accuracy: 1.0000 - val_loss: 0.0088 - val_accuracy: 0.9965\n"
          ],
          "name": "stdout"
        }
      ]
    },
    {
      "cell_type": "code",
      "metadata": {
        "id": "Vilf9RmEFXmr",
        "outputId": "defcbe1d-9a2a-43d4-df1a-9ca2c3e45f50",
        "colab": {
          "base_uri": "https://localhost:8080/"
        }
      },
      "source": [
        "dev_acc = nn.evaluate(x_dev, y_dev)[1]\n",
        "print('The dev accuracy is', dev_acc)"
      ],
      "execution_count": 26,
      "outputs": [
        {
          "output_type": "stream",
          "text": [
            "9/9 [==============================] - 0s 2ms/step - loss: 0.0088 - accuracy: 0.9965\n",
            "The dev accuracy is 0.9964788556098938\n"
          ],
          "name": "stdout"
        }
      ]
    },
    {
      "cell_type": "code",
      "metadata": {
        "id": "lSiXAmOkFdpI",
        "outputId": "3d8da456-e427-4793-f76d-a01f9ebeec6e",
        "colab": {
          "base_uri": "https://localhost:8080/",
          "height": 899
        }
      },
      "source": [
        "plt.figure(figsize = (10,7))\n",
        "plt.plot(history.history['accuracy'], color = 'yellow')\n",
        "plt.plot(history.history['val_accuracy'], color = 'blue')\n",
        "plt.title('Model accuracy')\n",
        "plt.ylabel('Accuracy')\n",
        "plt.xlabel('Epoch')\n",
        "plt.legend(['Train', 'Validation'], loc='upper left')\n",
        "plt.show()\n",
        "\n",
        "plt.figure(figsize = (10,7))\n",
        "plt.plot(history.history['loss'], color = 'yellow')\n",
        "plt.plot(history.history['val_loss'], color = 'blue')\n",
        "plt.ylim((0,3))\n",
        "plt.title('Model loss')\n",
        "plt.ylabel('Loss')\n",
        "plt.xlabel('Epoch')\n",
        "plt.legend(['Train', 'Validation'], loc='upper left')\n",
        "plt.show()"
      ],
      "execution_count": 27,
      "outputs": [
        {
          "output_type": "display_data",
          "data": {
            "image/png": "[encoded data removed]",
            "text/plain": [
              "<Figure size 720x504 with 1 Axes>"
            ]
          },
          "metadata": {
            "tags": [],
            "needs_background": "light"
          }
        },
        {
          "output_type": "display_data",
          "data": {
            "image/png": "[encoded data removed]",
            "text/plain": [
              "<Figure size 720x504 with 1 Axes>"
            ]
          },
          "metadata": {
            "tags": [],
            "needs_background": "light"
          }
        }
      ]
    },
    {
      "cell_type": "markdown",
      "metadata": {
        "id": "faQFQx3FFjnG"
      },
      "source": [
        "WINE"
      ]
    },
    {
      "cell_type": "code",
      "metadata": {
        "id": "KfGvDA1qFgKD"
      },
      "source": [
        "wine = load_wine()\n",
        "x = wine.data\n",
        "y = wine.target"
      ],
      "execution_count": 28,
      "outputs": []
    },
    {
      "cell_type": "code",
      "metadata": {
        "id": "Atl6w6EOFm5G",
        "outputId": "6f4655d2-b2d2-48c3-8683-73167f401574",
        "colab": {
          "base_uri": "https://localhost:8080/"
        }
      },
      "source": [
        "x = pd.DataFrame(x)\n",
        "y = pd.DataFrame(y)\n",
        "print(x.shape)\n",
        "print(y.shape)"
      ],
      "execution_count": 29,
      "outputs": [
        {
          "output_type": "stream",
          "text": [
            "(178, 13)\n",
            "(178, 1)\n"
          ],
          "name": "stdout"
        }
      ]
    },
    {
      "cell_type": "code",
      "metadata": {
        "id": "a9--KX7HFpEp"
      },
      "source": [
        "sc = StandardScaler()\n",
        "x = pd.DataFrame(sc.fit_transform(x))"
      ],
      "execution_count": 30,
      "outputs": []
    },
    {
      "cell_type": "code",
      "metadata": {
        "id": "sHrhXmjNFrw_",
        "outputId": "bba3853c-2d32-47bb-c71e-9bb4fdb6a0f9",
        "colab": {
          "base_uri": "https://localhost:8080/"
        }
      },
      "source": [
        "y1 = to_categorical(y)\n",
        "x_train, x_test, y_train, y_test = train_test_split(x, y1, test_size = 0.2, shuffle = True)\n",
        "x_dev, x_test, y_dev, y_test = train_test_split(x_test, y_test, test_size = 0.5, shuffle = True)\n",
        "print(x_train.shape)\n",
        "print(x_dev.shape)\n",
        "print(x_test.shape)\n",
        "print(y_train.shape)\n",
        "print(y_dev.shape)\n",
        "print(y_test.shape)"
      ],
      "execution_count": 31,
      "outputs": [
        {
          "output_type": "stream",
          "text": [
            "(142, 13)\n",
            "(18, 13)\n",
            "(18, 13)\n",
            "(142, 3)\n",
            "(18, 3)\n",
            "(18, 3)\n"
          ],
          "name": "stdout"
        }
      ]
    },
    {
      "cell_type": "code",
      "metadata": {
        "id": "ho9FvQRTFvvZ"
      },
      "source": [
        "nn = models.Sequential()\n",
        "nn.add(layers.Dense(64, activation = 'relu', input_shape = (13, )))\n",
        "nn.add(layers.Dense(32, activation = 'relu'))\n",
        "nn.add(layers.Dense(3, activation = 'sigmoid'))\n",
        "nn.compile(optimizer = 'sgd', loss = 'categorical_crossentropy', metrics = ['accuracy'])"
      ],
      "execution_count": 32,
      "outputs": []
    },
    {
      "cell_type": "code",
      "metadata": {
        "id": "pRU8Gx_dFyg3",
        "outputId": "34b0c51e-1094-4454-b7d4-1f493b018bc6",
        "colab": {
          "base_uri": "https://localhost:8080/"
        }
      },
      "source": [
        "history = nn.fit(x_train, y_train, epochs = 100, validation_data = (x_dev, y_dev))"
      ],
      "execution_count": 33,
      "outputs": [
        {
          "output_type": "stream",
          "text": [
            "Epoch 1/100\n",
            "5/5 [==============================] - 0s 52ms/step - loss: 1.1534 - accuracy: 0.3239 - val_loss: 1.1631 - val_accuracy: 0.2778\n",
            "Epoch 2/100\n",
            "5/5 [==============================] - 0s 5ms/step - loss: 1.1339 - accuracy: 0.3310 - val_loss: 1.1453 - val_accuracy: 0.2778\n",
            "Epoch 3/100\n",
            "5/5 [==============================] - 0s 6ms/step - loss: 1.1159 - accuracy: 0.3310 - val_loss: 1.1281 - val_accuracy: 0.2778\n",
            "Epoch 4/100\n",
            "5/5 [==============================] - 0s 4ms/step - loss: 1.0983 - accuracy: 0.3451 - val_loss: 1.1116 - val_accuracy: 0.2778\n",
            "Epoch 5/100\n",
            "5/5 [==============================] - 0s 4ms/step - loss: 1.0816 - accuracy: 0.3521 - val_loss: 1.0956 - val_accuracy: 0.3333\n",
            "Epoch 6/100\n",
            "5/5 [==============================] - 0s 6ms/step - loss: 1.0651 - accuracy: 0.3873 - val_loss: 1.0796 - val_accuracy: 0.2778\n",
            "Epoch 7/100\n",
            "5/5 [==============================] - 0s 5ms/step - loss: 1.0493 - accuracy: 0.4014 - val_loss: 1.0651 - val_accuracy: 0.3333\n",
            "Epoch 8/100\n",
            "5/5 [==============================] - 0s 5ms/step - loss: 1.0343 - accuracy: 0.4437 - val_loss: 1.0505 - val_accuracy: 0.3889\n",
            "Epoch 9/100\n",
            "5/5 [==============================] - 0s 5ms/step - loss: 1.0193 - accuracy: 0.4930 - val_loss: 1.0362 - val_accuracy: 0.3889\n",
            "Epoch 10/100\n",
            "5/5 [==============================] - 0s 4ms/step - loss: 1.0048 - accuracy: 0.5211 - val_loss: 1.0218 - val_accuracy: 0.3889\n",
            "Epoch 11/100\n",
            "5/5 [==============================] - 0s 5ms/step - loss: 0.9899 - accuracy: 0.5704 - val_loss: 1.0081 - val_accuracy: 0.4444\n",
            "Epoch 12/100\n",
            "5/5 [==============================] - 0s 5ms/step - loss: 0.9756 - accuracy: 0.6268 - val_loss: 0.9940 - val_accuracy: 0.4444\n",
            "Epoch 13/100\n",
            "5/5 [==============================] - 0s 4ms/step - loss: 0.9612 - accuracy: 0.6690 - val_loss: 0.9802 - val_accuracy: 0.4444\n",
            "Epoch 14/100\n",
            "5/5 [==============================] - 0s 5ms/step - loss: 0.9474 - accuracy: 0.7183 - val_loss: 0.9663 - val_accuracy: 0.4444\n",
            "Epoch 15/100\n",
            "5/5 [==============================] - 0s 4ms/step - loss: 0.9328 - accuracy: 0.7465 - val_loss: 0.9526 - val_accuracy: 0.5556\n",
            "Epoch 16/100\n",
            "5/5 [==============================] - 0s 5ms/step - loss: 0.9188 - accuracy: 0.7676 - val_loss: 0.9387 - val_accuracy: 0.6111\n",
            "Epoch 17/100\n",
            "5/5 [==============================] - 0s 4ms/step - loss: 0.9043 - accuracy: 0.7817 - val_loss: 0.9252 - val_accuracy: 0.6111\n",
            "Epoch 18/100\n",
            "5/5 [==============================] - 0s 5ms/step - loss: 0.8906 - accuracy: 0.8169 - val_loss: 0.9114 - val_accuracy: 0.6667\n",
            "Epoch 19/100\n",
            "5/5 [==============================] - 0s 5ms/step - loss: 0.8764 - accuracy: 0.8310 - val_loss: 0.8974 - val_accuracy: 0.6667\n",
            "Epoch 20/100\n",
            "5/5 [==============================] - 0s 5ms/step - loss: 0.8621 - accuracy: 0.8521 - val_loss: 0.8828 - val_accuracy: 0.7778\n",
            "Epoch 21/100\n",
            "5/5 [==============================] - 0s 4ms/step - loss: 0.8474 - accuracy: 0.8662 - val_loss: 0.8687 - val_accuracy: 0.7778\n",
            "Epoch 22/100\n",
            "5/5 [==============================] - 0s 5ms/step - loss: 0.8328 - accuracy: 0.8662 - val_loss: 0.8546 - val_accuracy: 0.7778\n",
            "Epoch 23/100\n",
            "5/5 [==============================] - 0s 4ms/step - loss: 0.8185 - accuracy: 0.8803 - val_loss: 0.8405 - val_accuracy: 0.7778\n",
            "Epoch 24/100\n",
            "5/5 [==============================] - 0s 5ms/step - loss: 0.8045 - accuracy: 0.8873 - val_loss: 0.8266 - val_accuracy: 0.7778\n",
            "Epoch 25/100\n",
            "5/5 [==============================] - 0s 5ms/step - loss: 0.7904 - accuracy: 0.8944 - val_loss: 0.8129 - val_accuracy: 0.8333\n",
            "Epoch 26/100\n",
            "5/5 [==============================] - 0s 5ms/step - loss: 0.7764 - accuracy: 0.9014 - val_loss: 0.7993 - val_accuracy: 0.8333\n",
            "Epoch 27/100\n",
            "5/5 [==============================] - 0s 5ms/step - loss: 0.7625 - accuracy: 0.9014 - val_loss: 0.7856 - val_accuracy: 0.8333\n",
            "Epoch 28/100\n",
            "5/5 [==============================] - 0s 5ms/step - loss: 0.7485 - accuracy: 0.9085 - val_loss: 0.7719 - val_accuracy: 0.8333\n",
            "Epoch 29/100\n",
            "5/5 [==============================] - 0s 5ms/step - loss: 0.7348 - accuracy: 0.9085 - val_loss: 0.7582 - val_accuracy: 0.8333\n",
            "Epoch 30/100\n",
            "5/5 [==============================] - 0s 5ms/step - loss: 0.7211 - accuracy: 0.9085 - val_loss: 0.7444 - val_accuracy: 0.8333\n",
            "Epoch 31/100\n",
            "5/5 [==============================] - 0s 5ms/step - loss: 0.7071 - accuracy: 0.9225 - val_loss: 0.7305 - val_accuracy: 0.8333\n",
            "Epoch 32/100\n",
            "5/5 [==============================] - 0s 4ms/step - loss: 0.6932 - accuracy: 0.9225 - val_loss: 0.7166 - val_accuracy: 0.8333\n",
            "Epoch 33/100\n",
            "5/5 [==============================] - 0s 5ms/step - loss: 0.6796 - accuracy: 0.9366 - val_loss: 0.7028 - val_accuracy: 0.8333\n",
            "Epoch 34/100\n",
            "5/5 [==============================] - 0s 5ms/step - loss: 0.6659 - accuracy: 0.9437 - val_loss: 0.6894 - val_accuracy: 0.8889\n",
            "Epoch 35/100\n",
            "5/5 [==============================] - 0s 5ms/step - loss: 0.6525 - accuracy: 0.9437 - val_loss: 0.6760 - val_accuracy: 0.8889\n",
            "Epoch 36/100\n",
            "5/5 [==============================] - 0s 6ms/step - loss: 0.6389 - accuracy: 0.9437 - val_loss: 0.6627 - val_accuracy: 0.8889\n",
            "Epoch 37/100\n",
            "5/5 [==============================] - 0s 4ms/step - loss: 0.6254 - accuracy: 0.9437 - val_loss: 0.6496 - val_accuracy: 0.8889\n",
            "Epoch 38/100\n",
            "5/5 [==============================] - 0s 5ms/step - loss: 0.6122 - accuracy: 0.9577 - val_loss: 0.6367 - val_accuracy: 0.8889\n",
            "Epoch 39/100\n",
            "5/5 [==============================] - 0s 5ms/step - loss: 0.5992 - accuracy: 0.9577 - val_loss: 0.6241 - val_accuracy: 0.8889\n",
            "Epoch 40/100\n",
            "5/5 [==============================] - 0s 7ms/step - loss: 0.5864 - accuracy: 0.9577 - val_loss: 0.6115 - val_accuracy: 0.8889\n",
            "Epoch 41/100\n",
            "5/5 [==============================] - 0s 6ms/step - loss: 0.5739 - accuracy: 0.9577 - val_loss: 0.5987 - val_accuracy: 0.8889\n",
            "Epoch 42/100\n",
            "5/5 [==============================] - 0s 5ms/step - loss: 0.5613 - accuracy: 0.9577 - val_loss: 0.5866 - val_accuracy: 0.8889\n",
            "Epoch 43/100\n",
            "5/5 [==============================] - 0s 5ms/step - loss: 0.5494 - accuracy: 0.9577 - val_loss: 0.5747 - val_accuracy: 0.8889\n",
            "Epoch 44/100\n",
            "5/5 [==============================] - 0s 5ms/step - loss: 0.5372 - accuracy: 0.9577 - val_loss: 0.5627 - val_accuracy: 0.8889\n",
            "Epoch 45/100\n",
            "5/5 [==============================] - 0s 5ms/step - loss: 0.5253 - accuracy: 0.9648 - val_loss: 0.5511 - val_accuracy: 0.8889\n",
            "Epoch 46/100\n",
            "5/5 [==============================] - 0s 5ms/step - loss: 0.5136 - accuracy: 0.9648 - val_loss: 0.5398 - val_accuracy: 0.8889\n",
            "Epoch 47/100\n",
            "5/5 [==============================] - 0s 5ms/step - loss: 0.5024 - accuracy: 0.9648 - val_loss: 0.5285 - val_accuracy: 0.8889\n",
            "Epoch 48/100\n",
            "5/5 [==============================] - 0s 5ms/step - loss: 0.4912 - accuracy: 0.9648 - val_loss: 0.5175 - val_accuracy: 0.8889\n",
            "Epoch 49/100\n",
            "5/5 [==============================] - 0s 5ms/step - loss: 0.4802 - accuracy: 0.9718 - val_loss: 0.5065 - val_accuracy: 0.8889\n",
            "Epoch 50/100\n",
            "5/5 [==============================] - 0s 4ms/step - loss: 0.4691 - accuracy: 0.9718 - val_loss: 0.4957 - val_accuracy: 0.8889\n",
            "Epoch 51/100\n",
            "5/5 [==============================] - 0s 5ms/step - loss: 0.4583 - accuracy: 0.9718 - val_loss: 0.4855 - val_accuracy: 0.8889\n",
            "Epoch 52/100\n",
            "5/5 [==============================] - 0s 5ms/step - loss: 0.4479 - accuracy: 0.9718 - val_loss: 0.4752 - val_accuracy: 0.8889\n",
            "Epoch 53/100\n",
            "5/5 [==============================] - 0s 5ms/step - loss: 0.4377 - accuracy: 0.9718 - val_loss: 0.4650 - val_accuracy: 0.8889\n",
            "Epoch 54/100\n",
            "5/5 [==============================] - 0s 5ms/step - loss: 0.4275 - accuracy: 0.9718 - val_loss: 0.4547 - val_accuracy: 0.8889\n",
            "Epoch 55/100\n",
            "5/5 [==============================] - 0s 5ms/step - loss: 0.4176 - accuracy: 0.9718 - val_loss: 0.4449 - val_accuracy: 0.8889\n",
            "Epoch 56/100\n",
            "5/5 [==============================] - 0s 5ms/step - loss: 0.4079 - accuracy: 0.9789 - val_loss: 0.4353 - val_accuracy: 0.8889\n",
            "Epoch 57/100\n",
            "5/5 [==============================] - 0s 5ms/step - loss: 0.3982 - accuracy: 0.9789 - val_loss: 0.4260 - val_accuracy: 0.8889\n",
            "Epoch 58/100\n",
            "5/5 [==============================] - 0s 5ms/step - loss: 0.3887 - accuracy: 0.9789 - val_loss: 0.4167 - val_accuracy: 0.8889\n",
            "Epoch 59/100\n",
            "5/5 [==============================] - 0s 5ms/step - loss: 0.3796 - accuracy: 0.9718 - val_loss: 0.4076 - val_accuracy: 0.8889\n",
            "Epoch 60/100\n",
            "5/5 [==============================] - 0s 5ms/step - loss: 0.3706 - accuracy: 0.9789 - val_loss: 0.3987 - val_accuracy: 0.8889\n",
            "Epoch 61/100\n",
            "5/5 [==============================] - 0s 5ms/step - loss: 0.3616 - accuracy: 0.9789 - val_loss: 0.3897 - val_accuracy: 0.8889\n",
            "Epoch 62/100\n",
            "5/5 [==============================] - 0s 5ms/step - loss: 0.3525 - accuracy: 0.9789 - val_loss: 0.3810 - val_accuracy: 0.8889\n",
            "Epoch 63/100\n",
            "5/5 [==============================] - 0s 5ms/step - loss: 0.3441 - accuracy: 0.9859 - val_loss: 0.3725 - val_accuracy: 0.8889\n",
            "Epoch 64/100\n",
            "5/5 [==============================] - 0s 5ms/step - loss: 0.3356 - accuracy: 0.9859 - val_loss: 0.3645 - val_accuracy: 0.8889\n",
            "Epoch 65/100\n",
            "5/5 [==============================] - 0s 5ms/step - loss: 0.3275 - accuracy: 0.9859 - val_loss: 0.3562 - val_accuracy: 0.8889\n",
            "Epoch 66/100\n",
            "5/5 [==============================] - 0s 6ms/step - loss: 0.3195 - accuracy: 0.9859 - val_loss: 0.3484 - val_accuracy: 0.8889\n",
            "Epoch 67/100\n",
            "5/5 [==============================] - 0s 5ms/step - loss: 0.3115 - accuracy: 0.9859 - val_loss: 0.3405 - val_accuracy: 0.8889\n",
            "Epoch 68/100\n",
            "5/5 [==============================] - 0s 4ms/step - loss: 0.3039 - accuracy: 0.9859 - val_loss: 0.3330 - val_accuracy: 0.8889\n",
            "Epoch 69/100\n",
            "5/5 [==============================] - 0s 5ms/step - loss: 0.2964 - accuracy: 0.9859 - val_loss: 0.3256 - val_accuracy: 0.8889\n",
            "Epoch 70/100\n",
            "5/5 [==============================] - 0s 5ms/step - loss: 0.2890 - accuracy: 0.9859 - val_loss: 0.3184 - val_accuracy: 0.9444\n",
            "Epoch 71/100\n",
            "5/5 [==============================] - 0s 5ms/step - loss: 0.2819 - accuracy: 0.9859 - val_loss: 0.3114 - val_accuracy: 0.9444\n",
            "Epoch 72/100\n",
            "5/5 [==============================] - 0s 4ms/step - loss: 0.2749 - accuracy: 0.9859 - val_loss: 0.3047 - val_accuracy: 0.9444\n",
            "Epoch 73/100\n",
            "5/5 [==============================] - 0s 4ms/step - loss: 0.2682 - accuracy: 0.9859 - val_loss: 0.2978 - val_accuracy: 0.9444\n",
            "Epoch 74/100\n",
            "5/5 [==============================] - 0s 4ms/step - loss: 0.2615 - accuracy: 0.9859 - val_loss: 0.2915 - val_accuracy: 0.9444\n",
            "Epoch 75/100\n",
            "5/5 [==============================] - 0s 4ms/step - loss: 0.2553 - accuracy: 0.9859 - val_loss: 0.2853 - val_accuracy: 0.9444\n",
            "Epoch 76/100\n",
            "5/5 [==============================] - 0s 5ms/step - loss: 0.2491 - accuracy: 0.9859 - val_loss: 0.2794 - val_accuracy: 0.9444\n",
            "Epoch 77/100\n",
            "5/5 [==============================] - 0s 5ms/step - loss: 0.2431 - accuracy: 0.9859 - val_loss: 0.2732 - val_accuracy: 0.9444\n",
            "Epoch 78/100\n",
            "5/5 [==============================] - 0s 4ms/step - loss: 0.2370 - accuracy: 0.9859 - val_loss: 0.2675 - val_accuracy: 0.9444\n",
            "Epoch 79/100\n",
            "5/5 [==============================] - 0s 5ms/step - loss: 0.2314 - accuracy: 0.9859 - val_loss: 0.2621 - val_accuracy: 0.9444\n",
            "Epoch 80/100\n",
            "5/5 [==============================] - 0s 5ms/step - loss: 0.2261 - accuracy: 0.9859 - val_loss: 0.2568 - val_accuracy: 0.9444\n",
            "Epoch 81/100\n",
            "5/5 [==============================] - 0s 5ms/step - loss: 0.2206 - accuracy: 0.9859 - val_loss: 0.2518 - val_accuracy: 0.9444\n",
            "Epoch 82/100\n",
            "5/5 [==============================] - 0s 5ms/step - loss: 0.2157 - accuracy: 0.9859 - val_loss: 0.2465 - val_accuracy: 0.9444\n",
            "Epoch 83/100\n",
            "5/5 [==============================] - 0s 4ms/step - loss: 0.2104 - accuracy: 0.9859 - val_loss: 0.2414 - val_accuracy: 0.9444\n",
            "Epoch 84/100\n",
            "5/5 [==============================] - 0s 5ms/step - loss: 0.2053 - accuracy: 0.9859 - val_loss: 0.2365 - val_accuracy: 0.9444\n",
            "Epoch 85/100\n",
            "5/5 [==============================] - 0s 4ms/step - loss: 0.2006 - accuracy: 0.9859 - val_loss: 0.2318 - val_accuracy: 0.9444\n",
            "Epoch 86/100\n",
            "5/5 [==============================] - 0s 5ms/step - loss: 0.1961 - accuracy: 0.9859 - val_loss: 0.2274 - val_accuracy: 0.9444\n",
            "Epoch 87/100\n",
            "5/5 [==============================] - 0s 4ms/step - loss: 0.1916 - accuracy: 0.9859 - val_loss: 0.2233 - val_accuracy: 0.9444\n",
            "Epoch 88/100\n",
            "5/5 [==============================] - 0s 5ms/step - loss: 0.1871 - accuracy: 0.9859 - val_loss: 0.2191 - val_accuracy: 0.9444\n",
            "Epoch 89/100\n",
            "5/5 [==============================] - 0s 4ms/step - loss: 0.1828 - accuracy: 0.9859 - val_loss: 0.2150 - val_accuracy: 0.9444\n",
            "Epoch 90/100\n",
            "5/5 [==============================] - 0s 4ms/step - loss: 0.1786 - accuracy: 0.9859 - val_loss: 0.2108 - val_accuracy: 0.9444\n",
            "Epoch 91/100\n",
            "5/5 [==============================] - 0s 4ms/step - loss: 0.1747 - accuracy: 0.9859 - val_loss: 0.2076 - val_accuracy: 0.9444\n",
            "Epoch 92/100\n",
            "5/5 [==============================] - 0s 5ms/step - loss: 0.1710 - accuracy: 0.9859 - val_loss: 0.2039 - val_accuracy: 0.9444\n",
            "Epoch 93/100\n",
            "5/5 [==============================] - 0s 5ms/step - loss: 0.1672 - accuracy: 0.9859 - val_loss: 0.2005 - val_accuracy: 0.9444\n",
            "Epoch 94/100\n",
            "5/5 [==============================] - 0s 5ms/step - loss: 0.1634 - accuracy: 0.9930 - val_loss: 0.1969 - val_accuracy: 0.9444\n",
            "Epoch 95/100\n",
            "5/5 [==============================] - 0s 5ms/step - loss: 0.1599 - accuracy: 0.9859 - val_loss: 0.1939 - val_accuracy: 0.9444\n",
            "Epoch 96/100\n",
            "5/5 [==============================] - 0s 5ms/step - loss: 0.1566 - accuracy: 0.9930 - val_loss: 0.1907 - val_accuracy: 0.9444\n",
            "Epoch 97/100\n",
            "5/5 [==============================] - 0s 5ms/step - loss: 0.1534 - accuracy: 0.9859 - val_loss: 0.1875 - val_accuracy: 0.9444\n",
            "Epoch 98/100\n",
            "5/5 [==============================] - 0s 5ms/step - loss: 0.1503 - accuracy: 0.9930 - val_loss: 0.1845 - val_accuracy: 0.9444\n",
            "Epoch 99/100\n",
            "5/5 [==============================] - 0s 5ms/step - loss: 0.1471 - accuracy: 0.9930 - val_loss: 0.1817 - val_accuracy: 0.9444\n",
            "Epoch 100/100\n",
            "5/5 [==============================] - 0s 5ms/step - loss: 0.1442 - accuracy: 0.9859 - val_loss: 0.1789 - val_accuracy: 0.9444\n"
          ],
          "name": "stdout"
        }
      ]
    },
    {
      "cell_type": "code",
      "metadata": {
        "id": "_mvJR_MvF1Hx",
        "outputId": "2598c2db-561e-4a5f-a845-2b14957d1c80",
        "colab": {
          "base_uri": "https://localhost:8080/"
        }
      },
      "source": [
        "dev_acc = nn.evaluate(x_dev, y_dev)[1]\n",
        "print('The dev accuracy is', dev_acc)"
      ],
      "execution_count": 34,
      "outputs": [
        {
          "output_type": "stream",
          "text": [
            "1/1 [==============================] - 0s 1ms/step - loss: 0.1789 - accuracy: 0.9444\n",
            "The dev accuracy is 0.9444444179534912\n"
          ],
          "name": "stdout"
        }
      ]
    },
    {
      "cell_type": "code",
      "metadata": {
        "id": "w5jVwXV6F4MO",
        "outputId": "8eeeec3e-41ce-4f3b-83c2-09a364d6882f",
        "colab": {
          "base_uri": "https://localhost:8080/",
          "height": 899
        }
      },
      "source": [
        "plt.figure(figsize = (10,7))\n",
        "plt.plot(history.history['accuracy'], color = 'yellow')\n",
        "plt.plot(history.history['val_accuracy'], color = 'blue')\n",
        "plt.title('Model accuracy')\n",
        "plt.ylabel('Accuracy')\n",
        "plt.xlabel('Epoch')\n",
        "plt.legend(['Train', 'Validation'], loc='upper left')\n",
        "plt.show()\n",
        "\n",
        "plt.figure(figsize = (10,7))\n",
        "plt.plot(history.history['loss'], color = 'yellow')\n",
        "plt.plot(history.history['val_loss'], color = 'blue')\n",
        "plt.ylim((0,3))\n",
        "plt.title('Model loss')\n",
        "plt.ylabel('Loss')\n",
        "plt.xlabel('Epoch')\n",
        "plt.legend(['Train', 'Validation'], loc='upper left')\n",
        "plt.show()"
      ],
      "execution_count": 35,
      "outputs": [
        {
          "output_type": "display_data",
          "data": {
            "image/png": "[encoded data removed]",
            "text/plain": [
              "<Figure size 720x504 with 1 Axes>"
            ]
          },
          "metadata": {
            "tags": [],
            "needs_background": "light"
          }
        },
        {
          "output_type": "display_data",
          "data": {
            "image/png": "[encoded data removed]",
            "text/plain": [
              "<Figure size 720x504 with 1 Axes>"
            ]
          },
          "metadata": {
            "tags": [],
            "needs_background": "light"
          }
        }
      ]
    },
    {
      "cell_type": "code",
      "metadata": {
        "id": "CJMMbLSfF9Jn"
      },
      "source": [
        ""
      ],
      "execution_count": 35,
      "outputs": []
    }
  ]
}